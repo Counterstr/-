{
  "metadata": {
    "colab": {
      "provenance": []
    },
    "kernelspec": {
      "name": "python",
      "display_name": "Python (Pyodide)",
      "language": "python"
    },
    "language_info": {
      "codemirror_mode": {
        "name": "python",
        "version": 3
      },
      "file_extension": ".py",
      "mimetype": "text/x-python",
      "name": "python",
      "nbconvert_exporter": "python",
      "pygments_lexer": "ipython3",
      "version": "3.8"
    }
  },
  "nbformat_minor": 4,
  "nbformat": 4,
  "cells": [
    {
      "cell_type": "markdown",
      "source": "# Модуль 1",
      "metadata": {
        "id": "tgLvr_B2tuh2"
      }
    },
    {
      "cell_type": "markdown",
      "source": "## 1.1 Подготовка данных",
      "metadata": {
        "id": "cdYdwvjStzs2"
      }
    },
    {
      "cell_type": "code",
      "source": "# Подключение библиотек\nimport pandas as pd\nimport numpy as np\nimport matplotlib.pyplot as plt\n\n# отключить предпреждения\nimport warnings\nwarnings.filterwarnings('ignore')\n\n# Загрузка данных\ntrain_df = pd.read_csv(\"train_ses.csv\")\ntest_df = pd.read_csv(\"test_ses.csv\")\n\ntrain_df.head(4)",
      "metadata": {
        "colab": {
          "base_uri": "https://localhost:8080/",
          "height": 363
        },
        "id": "O02Rxds0tlbQ",
        "outputId": "8705e6b0-2d51-49ad-a723-f60a3ae81c07",
        "trusted": true
      },
      "execution_count": 73,
      "outputs": [
        {
          "execution_count": 73,
          "output_type": "execute_result",
          "data": {
            "text/plain": "   session_id  site1                time1  site2                time2  \\\n0           1    718  2014-02-20 10:02:45    NaN                  NaN   \n1           2    890  2014-02-22 11:19:50  941.0  2014-02-22 11:19:50   \n2           3  14769  2013-12-16 16:40:17   39.0  2013-12-16 16:40:18   \n3           4    782  2014-03-28 10:52:12  782.0  2014-03-28 10:52:42   \n\n     site3                time3    site4                time4  site5  ...  \\\n0      NaN                  NaN      NaN                  NaN    NaN  ...   \n1   3847.0  2014-02-22 11:19:51    941.0  2014-02-22 11:19:51  942.0  ...   \n2  14768.0  2013-12-16 16:40:19  14769.0  2013-12-16 16:40:19   37.0  ...   \n3    782.0  2014-03-28 10:53:12    782.0  2014-03-28 10:53:42  782.0  ...   \n\n                 time6    site7                time7    site8  \\\n0                  NaN      NaN                  NaN      NaN   \n1  2014-02-22 11:19:51   3847.0  2014-02-22 11:19:52   3846.0   \n2  2013-12-16 16:40:19  14768.0  2013-12-16 16:40:20  14768.0   \n3  2014-03-28 10:54:42    782.0  2014-03-28 10:55:12    782.0   \n\n                 time8    site9                time9   site10  \\\n0                  NaN      NaN                  NaN      NaN   \n1  2014-02-22 11:19:52   1516.0  2014-02-22 11:20:15   1518.0   \n2  2013-12-16 16:40:21  14768.0  2013-12-16 16:40:22  14768.0   \n3  2014-03-28 10:55:42    782.0  2014-03-28 10:56:12    782.0   \n\n                time10  target  \n0                  NaN       0  \n1  2014-02-22 11:20:16       0  \n2  2013-12-16 16:40:24       0  \n3  2014-03-28 10:56:42       0  \n\n[4 rows x 22 columns]",
            "text/html": "<div>\n<style scoped>\n    .dataframe tbody tr th:only-of-type {\n        vertical-align: middle;\n    }\n\n    .dataframe tbody tr th {\n        vertical-align: top;\n    }\n\n    .dataframe thead th {\n        text-align: right;\n    }\n</style>\n<table border=\"1\" class=\"dataframe\">\n  <thead>\n    <tr style=\"text-align: right;\">\n      <th></th>\n      <th>session_id</th>\n      <th>site1</th>\n      <th>time1</th>\n      <th>site2</th>\n      <th>time2</th>\n      <th>site3</th>\n      <th>time3</th>\n      <th>site4</th>\n      <th>time4</th>\n      <th>site5</th>\n      <th>...</th>\n      <th>time6</th>\n      <th>site7</th>\n      <th>time7</th>\n      <th>site8</th>\n      <th>time8</th>\n      <th>site9</th>\n      <th>time9</th>\n      <th>site10</th>\n      <th>time10</th>\n      <th>target</th>\n    </tr>\n  </thead>\n  <tbody>\n    <tr>\n      <th>0</th>\n      <td>1</td>\n      <td>718</td>\n      <td>2014-02-20 10:02:45</td>\n      <td>NaN</td>\n      <td>NaN</td>\n      <td>NaN</td>\n      <td>NaN</td>\n      <td>NaN</td>\n      <td>NaN</td>\n      <td>NaN</td>\n      <td>...</td>\n      <td>NaN</td>\n      <td>NaN</td>\n      <td>NaN</td>\n      <td>NaN</td>\n      <td>NaN</td>\n      <td>NaN</td>\n      <td>NaN</td>\n      <td>NaN</td>\n      <td>NaN</td>\n      <td>0</td>\n    </tr>\n    <tr>\n      <th>1</th>\n      <td>2</td>\n      <td>890</td>\n      <td>2014-02-22 11:19:50</td>\n      <td>941.0</td>\n      <td>2014-02-22 11:19:50</td>\n      <td>3847.0</td>\n      <td>2014-02-22 11:19:51</td>\n      <td>941.0</td>\n      <td>2014-02-22 11:19:51</td>\n      <td>942.0</td>\n      <td>...</td>\n      <td>2014-02-22 11:19:51</td>\n      <td>3847.0</td>\n      <td>2014-02-22 11:19:52</td>\n      <td>3846.0</td>\n      <td>2014-02-22 11:19:52</td>\n      <td>1516.0</td>\n      <td>2014-02-22 11:20:15</td>\n      <td>1518.0</td>\n      <td>2014-02-22 11:20:16</td>\n      <td>0</td>\n    </tr>\n    <tr>\n      <th>2</th>\n      <td>3</td>\n      <td>14769</td>\n      <td>2013-12-16 16:40:17</td>\n      <td>39.0</td>\n      <td>2013-12-16 16:40:18</td>\n      <td>14768.0</td>\n      <td>2013-12-16 16:40:19</td>\n      <td>14769.0</td>\n      <td>2013-12-16 16:40:19</td>\n      <td>37.0</td>\n      <td>...</td>\n      <td>2013-12-16 16:40:19</td>\n      <td>14768.0</td>\n      <td>2013-12-16 16:40:20</td>\n      <td>14768.0</td>\n      <td>2013-12-16 16:40:21</td>\n      <td>14768.0</td>\n      <td>2013-12-16 16:40:22</td>\n      <td>14768.0</td>\n      <td>2013-12-16 16:40:24</td>\n      <td>0</td>\n    </tr>\n    <tr>\n      <th>3</th>\n      <td>4</td>\n      <td>782</td>\n      <td>2014-03-28 10:52:12</td>\n      <td>782.0</td>\n      <td>2014-03-28 10:52:42</td>\n      <td>782.0</td>\n      <td>2014-03-28 10:53:12</td>\n      <td>782.0</td>\n      <td>2014-03-28 10:53:42</td>\n      <td>782.0</td>\n      <td>...</td>\n      <td>2014-03-28 10:54:42</td>\n      <td>782.0</td>\n      <td>2014-03-28 10:55:12</td>\n      <td>782.0</td>\n      <td>2014-03-28 10:55:42</td>\n      <td>782.0</td>\n      <td>2014-03-28 10:56:12</td>\n      <td>782.0</td>\n      <td>2014-03-28 10:56:42</td>\n      <td>0</td>\n    </tr>\n  </tbody>\n</table>\n<p>4 rows × 22 columns</p>\n</div>"
          },
          "metadata": {}
        }
      ]
    },
    {
      "cell_type": "code",
      "source": "test_df.head(4)",
      "metadata": {
        "colab": {
          "base_uri": "https://localhost:8080/",
          "height": 363
        },
        "id": "3osj5zyGvQvv",
        "outputId": "2dfbd167-5bc3-45e8-b346-0c0adcd517e4",
        "trusted": true
      },
      "execution_count": 74,
      "outputs": [
        {
          "execution_count": 74,
          "output_type": "execute_result",
          "data": {
            "text/plain": "   session_id  site1                time1   site2                time2  site3  \\\n0           1     29  2014-10-04 11:19:53    35.0  2014-10-04 11:19:53   22.0   \n1           2    782  2014-07-03 11:00:28   782.0  2014-07-03 11:00:53  782.0   \n2           3     55  2014-12-05 15:55:12    55.0  2014-12-05 15:55:13   55.0   \n3           4   1023  2014-11-04 10:03:19  1022.0  2014-11-04 10:03:19   50.0   \n\n                 time3  site4                time4  site5  ...   site6  \\\n0  2014-10-04 11:19:54  321.0  2014-10-04 11:19:54   23.0  ...  2211.0   \n1  2014-07-03 11:00:58  782.0  2014-07-03 11:01:06  782.0  ...   782.0   \n2  2014-12-05 15:55:14   55.0  2014-12-05 15:56:15   55.0  ...    55.0   \n3  2014-11-04 10:03:20  222.0  2014-11-04 10:03:21  202.0  ...  3374.0   \n\n                 time6   site7                time7  site8  \\\n0  2014-10-04 11:19:54  6730.0  2014-10-04 11:19:54   21.0   \n1  2014-07-03 11:01:10   782.0  2014-07-03 11:01:23  782.0   \n2  2014-12-05 15:56:17    55.0  2014-12-05 15:56:18   55.0   \n3  2014-11-04 10:03:22    50.0  2014-11-04 10:03:22   48.0   \n\n                 time8    site9                time9   site10  \\\n0  2014-10-04 11:19:54  44582.0  2014-10-04 11:20:00  15336.0   \n1  2014-07-03 11:01:29    782.0  2014-07-03 11:01:30    782.0   \n2  2014-12-05 15:56:19   1445.0  2014-12-05 15:56:33   1445.0   \n3  2014-11-04 10:03:22     48.0  2014-11-04 10:03:23   3374.0   \n\n                time10  \n0  2014-10-04 11:20:00  \n1  2014-07-03 11:01:53  \n2  2014-12-05 15:56:36  \n3  2014-11-04 10:03:23  \n\n[4 rows x 21 columns]",
            "text/html": "<div>\n<style scoped>\n    .dataframe tbody tr th:only-of-type {\n        vertical-align: middle;\n    }\n\n    .dataframe tbody tr th {\n        vertical-align: top;\n    }\n\n    .dataframe thead th {\n        text-align: right;\n    }\n</style>\n<table border=\"1\" class=\"dataframe\">\n  <thead>\n    <tr style=\"text-align: right;\">\n      <th></th>\n      <th>session_id</th>\n      <th>site1</th>\n      <th>time1</th>\n      <th>site2</th>\n      <th>time2</th>\n      <th>site3</th>\n      <th>time3</th>\n      <th>site4</th>\n      <th>time4</th>\n      <th>site5</th>\n      <th>...</th>\n      <th>site6</th>\n      <th>time6</th>\n      <th>site7</th>\n      <th>time7</th>\n      <th>site8</th>\n      <th>time8</th>\n      <th>site9</th>\n      <th>time9</th>\n      <th>site10</th>\n      <th>time10</th>\n    </tr>\n  </thead>\n  <tbody>\n    <tr>\n      <th>0</th>\n      <td>1</td>\n      <td>29</td>\n      <td>2014-10-04 11:19:53</td>\n      <td>35.0</td>\n      <td>2014-10-04 11:19:53</td>\n      <td>22.0</td>\n      <td>2014-10-04 11:19:54</td>\n      <td>321.0</td>\n      <td>2014-10-04 11:19:54</td>\n      <td>23.0</td>\n      <td>...</td>\n      <td>2211.0</td>\n      <td>2014-10-04 11:19:54</td>\n      <td>6730.0</td>\n      <td>2014-10-04 11:19:54</td>\n      <td>21.0</td>\n      <td>2014-10-04 11:19:54</td>\n      <td>44582.0</td>\n      <td>2014-10-04 11:20:00</td>\n      <td>15336.0</td>\n      <td>2014-10-04 11:20:00</td>\n    </tr>\n    <tr>\n      <th>1</th>\n      <td>2</td>\n      <td>782</td>\n      <td>2014-07-03 11:00:28</td>\n      <td>782.0</td>\n      <td>2014-07-03 11:00:53</td>\n      <td>782.0</td>\n      <td>2014-07-03 11:00:58</td>\n      <td>782.0</td>\n      <td>2014-07-03 11:01:06</td>\n      <td>782.0</td>\n      <td>...</td>\n      <td>782.0</td>\n      <td>2014-07-03 11:01:10</td>\n      <td>782.0</td>\n      <td>2014-07-03 11:01:23</td>\n      <td>782.0</td>\n      <td>2014-07-03 11:01:29</td>\n      <td>782.0</td>\n      <td>2014-07-03 11:01:30</td>\n      <td>782.0</td>\n      <td>2014-07-03 11:01:53</td>\n    </tr>\n    <tr>\n      <th>2</th>\n      <td>3</td>\n      <td>55</td>\n      <td>2014-12-05 15:55:12</td>\n      <td>55.0</td>\n      <td>2014-12-05 15:55:13</td>\n      <td>55.0</td>\n      <td>2014-12-05 15:55:14</td>\n      <td>55.0</td>\n      <td>2014-12-05 15:56:15</td>\n      <td>55.0</td>\n      <td>...</td>\n      <td>55.0</td>\n      <td>2014-12-05 15:56:17</td>\n      <td>55.0</td>\n      <td>2014-12-05 15:56:18</td>\n      <td>55.0</td>\n      <td>2014-12-05 15:56:19</td>\n      <td>1445.0</td>\n      <td>2014-12-05 15:56:33</td>\n      <td>1445.0</td>\n      <td>2014-12-05 15:56:36</td>\n    </tr>\n    <tr>\n      <th>3</th>\n      <td>4</td>\n      <td>1023</td>\n      <td>2014-11-04 10:03:19</td>\n      <td>1022.0</td>\n      <td>2014-11-04 10:03:19</td>\n      <td>50.0</td>\n      <td>2014-11-04 10:03:20</td>\n      <td>222.0</td>\n      <td>2014-11-04 10:03:21</td>\n      <td>202.0</td>\n      <td>...</td>\n      <td>3374.0</td>\n      <td>2014-11-04 10:03:22</td>\n      <td>50.0</td>\n      <td>2014-11-04 10:03:22</td>\n      <td>48.0</td>\n      <td>2014-11-04 10:03:22</td>\n      <td>48.0</td>\n      <td>2014-11-04 10:03:23</td>\n      <td>3374.0</td>\n      <td>2014-11-04 10:03:23</td>\n    </tr>\n  </tbody>\n</table>\n<p>4 rows × 21 columns</p>\n</div>"
          },
          "metadata": {}
        }
      ]
    },
    {
      "cell_type": "markdown",
      "source": "Данные успешно загрузились",
      "metadata": {
        "id": "9kCgSLutvYwP"
      }
    },
    {
      "cell_type": "code",
      "source": "print(f\"Размер обучающей выборки: {train_df.shape}\\nРазмер тестовой выборки: {test_df.shape}\")",
      "metadata": {
        "colab": {
          "base_uri": "https://localhost:8080/"
        },
        "id": "AuPw5deowr0A",
        "outputId": "5fe70199-66ce-4f9e-947a-571b7bf1ed85",
        "trusted": true
      },
      "execution_count": 75,
      "outputs": [
        {
          "name": "stdout",
          "text": "Размер обучающей выборки: (253561, 22)\nРазмер тестовой выборки: (82797, 21)\n",
          "output_type": "stream"
        }
      ]
    },
    {
      "cell_type": "code",
      "source": "# Уберём в отдельную переменную целевое значение\ny=train_df['target']\ntrain_df.drop(columns=['target'], inplace=True)\ny",
      "metadata": {
        "colab": {
          "base_uri": "https://localhost:8080/"
        },
        "id": "VhOzwjqaxg04",
        "outputId": "116988e4-72f2-43de-9f96-73e26ebc1c99",
        "trusted": true
      },
      "execution_count": 76,
      "outputs": [
        {
          "execution_count": 76,
          "output_type": "execute_result",
          "data": {
            "text/plain": "0         0\n1         0\n2         0\n3         0\n4         0\n         ..\n253556    0\n253557    0\n253558    0\n253559    0\n253560    0\nName: target, Length: 253561, dtype: int64"
          },
          "metadata": {}
        }
      ]
    },
    {
      "cell_type": "code",
      "source": "# Так как мы убрали столбец target в обучающей выборке можем склеить обе таблицы\ndata_all=pd.concat([train_df, test_df], axis=0, ignore_index=True)\nprint(f\"Общий размер данных: {data_all.shape}\")",
      "metadata": {
        "colab": {
          "base_uri": "https://localhost:8080/"
        },
        "id": "L_omTFYNyJJo",
        "outputId": "94bc254e-05b0-4097-95b2-677abc685be6",
        "trusted": true
      },
      "execution_count": 77,
      "outputs": [
        {
          "name": "stdout",
          "text": "Общий размер данных: (336358, 21)\n",
          "output_type": "stream"
        }
      ]
    },
    {
      "cell_type": "code",
      "source": "# Посмотрим на типы данных\ndata_all.info()",
      "metadata": {
        "colab": {
          "base_uri": "https://localhost:8080/"
        },
        "id": "kiEakbtsv9tA",
        "outputId": "4a61df5b-f1bd-422c-87dd-afc6a2028efb",
        "trusted": true
      },
      "execution_count": 78,
      "outputs": [
        {
          "name": "stdout",
          "text": "<class 'pandas.core.frame.DataFrame'>\nRangeIndex: 336358 entries, 0 to 336357\nData columns (total 21 columns):\n #   Column      Non-Null Count   Dtype  \n---  ------      --------------   -----  \n 0   session_id  336358 non-null  int64  \n 1   site1       336358 non-null  int64  \n 2   time1       336358 non-null  object \n 3   site2       331406 non-null  float64\n 4   time2       331406 non-null  object \n 5   site3       326994 non-null  float64\n 6   time3       326994 non-null  object \n 7   site4       323503 non-null  float64\n 8   time4       323503 non-null  object \n 9   site5       320170 non-null  float64\n 10  time5       320170 non-null  object \n 11  site6       317061 non-null  float64\n 12  time6       317061 non-null  object \n 13  site7       314137 non-null  float64\n 14  time7       314137 non-null  object \n 15  site8       311375 non-null  float64\n 16  time8       311375 non-null  object \n 17  site9       308568 non-null  float64\n 18  time9       308568 non-null  object \n 19  site10      305858 non-null  float64\n 20  time10      305858 non-null  object \ndtypes: float64(9), int64(2), object(10)\nmemory usage: 41.1+ MB\n",
          "output_type": "stream"
        }
      ]
    },
    {
      "cell_type": "code",
      "source": "# Разабьём в 2 группы данные по сайтам и времени\nsites_df = data_all[[f'site{i}' for i in range(1, 11)]]\ntimes_df = data_all[[f'time{i}' for i in range(1, 11)]]",
      "metadata": {
        "id": "d-auWvt1wJwC",
        "trusted": true
      },
      "execution_count": 79,
      "outputs": []
    },
    {
      "cell_type": "code",
      "source": "# Сначала обработаем данные по сайтам\nsites_df.head(5)",
      "metadata": {
        "colab": {
          "base_uri": "https://localhost:8080/",
          "height": 206
        },
        "id": "MNPTXJf4zToN",
        "outputId": "6ddab16a-2ea8-4d9d-bd27-a978b67e38d9",
        "trusted": true
      },
      "execution_count": 80,
      "outputs": [
        {
          "execution_count": 80,
          "output_type": "execute_result",
          "data": {
            "text/plain": "   site1  site2    site3    site4  site5   site6    site7    site8    site9  \\\n0    718    NaN      NaN      NaN    NaN     NaN      NaN      NaN      NaN   \n1    890  941.0   3847.0    941.0  942.0  3846.0   3847.0   3846.0   1516.0   \n2  14769   39.0  14768.0  14769.0   37.0    39.0  14768.0  14768.0  14768.0   \n3    782  782.0    782.0    782.0  782.0   782.0    782.0    782.0    782.0   \n4     22  177.0    175.0    178.0  177.0   178.0    175.0    177.0    177.0   \n\n    site10  \n0      NaN  \n1   1518.0  \n2  14768.0  \n3    782.0  \n4    178.0  ",
            "text/html": "<div>\n<style scoped>\n    .dataframe tbody tr th:only-of-type {\n        vertical-align: middle;\n    }\n\n    .dataframe tbody tr th {\n        vertical-align: top;\n    }\n\n    .dataframe thead th {\n        text-align: right;\n    }\n</style>\n<table border=\"1\" class=\"dataframe\">\n  <thead>\n    <tr style=\"text-align: right;\">\n      <th></th>\n      <th>site1</th>\n      <th>site2</th>\n      <th>site3</th>\n      <th>site4</th>\n      <th>site5</th>\n      <th>site6</th>\n      <th>site7</th>\n      <th>site8</th>\n      <th>site9</th>\n      <th>site10</th>\n    </tr>\n  </thead>\n  <tbody>\n    <tr>\n      <th>0</th>\n      <td>718</td>\n      <td>NaN</td>\n      <td>NaN</td>\n      <td>NaN</td>\n      <td>NaN</td>\n      <td>NaN</td>\n      <td>NaN</td>\n      <td>NaN</td>\n      <td>NaN</td>\n      <td>NaN</td>\n    </tr>\n    <tr>\n      <th>1</th>\n      <td>890</td>\n      <td>941.0</td>\n      <td>3847.0</td>\n      <td>941.0</td>\n      <td>942.0</td>\n      <td>3846.0</td>\n      <td>3847.0</td>\n      <td>3846.0</td>\n      <td>1516.0</td>\n      <td>1518.0</td>\n    </tr>\n    <tr>\n      <th>2</th>\n      <td>14769</td>\n      <td>39.0</td>\n      <td>14768.0</td>\n      <td>14769.0</td>\n      <td>37.0</td>\n      <td>39.0</td>\n      <td>14768.0</td>\n      <td>14768.0</td>\n      <td>14768.0</td>\n      <td>14768.0</td>\n    </tr>\n    <tr>\n      <th>3</th>\n      <td>782</td>\n      <td>782.0</td>\n      <td>782.0</td>\n      <td>782.0</td>\n      <td>782.0</td>\n      <td>782.0</td>\n      <td>782.0</td>\n      <td>782.0</td>\n      <td>782.0</td>\n      <td>782.0</td>\n    </tr>\n    <tr>\n      <th>4</th>\n      <td>22</td>\n      <td>177.0</td>\n      <td>175.0</td>\n      <td>178.0</td>\n      <td>177.0</td>\n      <td>178.0</td>\n      <td>175.0</td>\n      <td>177.0</td>\n      <td>177.0</td>\n      <td>178.0</td>\n    </tr>\n  </tbody>\n</table>\n</div>"
          },
          "metadata": {}
        }
      ]
    },
    {
      "cell_type": "code",
      "source": "# Техническая информация\nsites_df.info()",
      "metadata": {
        "colab": {
          "base_uri": "https://localhost:8080/"
        },
        "id": "6eAcAan7zjPA",
        "outputId": "be8b9c16-40a4-460b-d9ca-bb4336f83e0b",
        "trusted": true
      },
      "execution_count": 81,
      "outputs": [
        {
          "name": "stdout",
          "text": "<class 'pandas.core.frame.DataFrame'>\nRangeIndex: 336358 entries, 0 to 336357\nData columns (total 10 columns):\n #   Column  Non-Null Count   Dtype  \n---  ------  --------------   -----  \n 0   site1   336358 non-null  int64  \n 1   site2   331406 non-null  float64\n 2   site3   326994 non-null  float64\n 3   site4   323503 non-null  float64\n 4   site5   320170 non-null  float64\n 5   site6   317061 non-null  float64\n 6   site7   314137 non-null  float64\n 7   site8   311375 non-null  float64\n 8   site9   308568 non-null  float64\n 9   site10  305858 non-null  float64\ndtypes: float64(9), int64(1)\nmemory usage: 25.7 MB\n",
          "output_type": "stream"
        }
      ]
    },
    {
      "cell_type": "code",
      "source": "# Информация по пропускам\nsites_df.isnull().sum()/len(sites_df) * 100",
      "metadata": {
        "colab": {
          "base_uri": "https://localhost:8080/"
        },
        "id": "vleKDDun01Jq",
        "outputId": "cb4a2c30-ac69-4465-aab8-d92fc8223548",
        "trusted": true
      },
      "execution_count": 82,
      "outputs": [
        {
          "execution_count": 82,
          "output_type": "execute_result",
          "data": {
            "text/plain": "site1     0.000000\nsite2     1.472241\nsite3     2.783939\nsite4     3.821821\nsite5     4.812729\nsite6     5.737042\nsite7     6.606354\nsite8     7.427503\nsite9     8.262030\nsite10    9.067720\ndtype: float64"
          },
          "metadata": {}
        }
      ]
    },
    {
      "cell_type": "code",
      "source": "# Заполним пропуски, так как сайт не был посещён поставим 0\nsites_df.fillna(0, inplace=True)\nsites_df.isnull().sum()/len(sites_df) * 100",
      "metadata": {
        "colab": {
          "base_uri": "https://localhost:8080/"
        },
        "id": "9j4rAy2I0c_B",
        "outputId": "ae3f920d-c085-4f1d-abea-7b8ae5e8c82b",
        "trusted": true
      },
      "execution_count": 83,
      "outputs": [
        {
          "execution_count": 83,
          "output_type": "execute_result",
          "data": {
            "text/plain": "site1     0.0\nsite2     0.0\nsite3     0.0\nsite4     0.0\nsite5     0.0\nsite6     0.0\nsite7     0.0\nsite8     0.0\nsite9     0.0\nsite10    0.0\ndtype: float64"
          },
          "metadata": {}
        }
      ]
    },
    {
      "cell_type": "code",
      "source": "# Приведём все данные к целочисленному виду\nfor col in sites_df.columns:\n  sites_df[col] = sites_df[col].astype(np.int64)\nsites_df.info()",
      "metadata": {
        "colab": {
          "base_uri": "https://localhost:8080/"
        },
        "id": "5Nl964mAzshp",
        "outputId": "bd6433d0-683a-4468-cb0f-5ddf7b2497bf",
        "trusted": true
      },
      "execution_count": 84,
      "outputs": [
        {
          "name": "stdout",
          "text": "<class 'pandas.core.frame.DataFrame'>\nRangeIndex: 336358 entries, 0 to 336357\nData columns (total 10 columns):\n #   Column  Non-Null Count   Dtype\n---  ------  --------------   -----\n 0   site1   336358 non-null  int64\n 1   site2   336358 non-null  int64\n 2   site3   336358 non-null  int64\n 3   site4   336358 non-null  int64\n 4   site5   336358 non-null  int64\n 5   site6   336358 non-null  int64\n 6   site7   336358 non-null  int64\n 7   site8   336358 non-null  int64\n 8   site9   336358 non-null  int64\n 9   site10  336358 non-null  int64\ndtypes: int64(10)\nmemory usage: 25.7 MB\n",
          "output_type": "stream"
        }
      ]
    },
    {
      "cell_type": "code",
      "source": "# Теперь обработаем данные о времени и приведём их к типу датавремя\nfor col in times_df.columns:\n    times_df[col] = pd.to_datetime(times_df[col])\ntimes_df.info()",
      "metadata": {
        "colab": {
          "base_uri": "https://localhost:8080/"
        },
        "id": "U7zjnbQ50XUJ",
        "outputId": "bf0344ea-5ab4-46af-a367-f4d5f8e5161b",
        "trusted": true
      },
      "execution_count": 85,
      "outputs": [
        {
          "name": "stdout",
          "text": "<class 'pandas.core.frame.DataFrame'>\nRangeIndex: 336358 entries, 0 to 336357\nData columns (total 10 columns):\n #   Column  Non-Null Count   Dtype         \n---  ------  --------------   -----         \n 0   time1   336358 non-null  datetime64[ns]\n 1   time2   331406 non-null  datetime64[ns]\n 2   time3   326994 non-null  datetime64[ns]\n 3   time4   323503 non-null  datetime64[ns]\n 4   time5   320170 non-null  datetime64[ns]\n 5   time6   317061 non-null  datetime64[ns]\n 6   time7   314137 non-null  datetime64[ns]\n 7   time8   311375 non-null  datetime64[ns]\n 8   time9   308568 non-null  datetime64[ns]\n 9   time10  305858 non-null  datetime64[ns]\ndtypes: datetime64[ns](10)\nmemory usage: 25.7 MB\n",
          "output_type": "stream"
        }
      ]
    },
    {
      "cell_type": "code",
      "source": "# Перезапишем данные в общую таблицу\ndata_all[[f'site{i}' for i in range(1, 11)]] = sites_df\ndata_all[[f'time{i}' for i in range(1, 11)]] = times_df",
      "metadata": {
        "id": "OfDd0twU1s90",
        "trusted": true
      },
      "execution_count": 86,
      "outputs": []
    },
    {
      "cell_type": "code",
      "source": "data_all.head(4)",
      "metadata": {
        "colab": {
          "base_uri": "https://localhost:8080/",
          "height": 363
        },
        "id": "Qk3Tkh8y14Ua",
        "outputId": "e63ccc84-c939-4745-c0ef-2b83f4a326f9",
        "trusted": true
      },
      "execution_count": 87,
      "outputs": [
        {
          "execution_count": 87,
          "output_type": "execute_result",
          "data": {
            "text/plain": "   session_id  site1               time1  site2               time2  site3  \\\n0           1    718 2014-02-20 10:02:45      0                 NaT      0   \n1           2    890 2014-02-22 11:19:50    941 2014-02-22 11:19:50   3847   \n2           3  14769 2013-12-16 16:40:17     39 2013-12-16 16:40:18  14768   \n3           4    782 2014-03-28 10:52:12    782 2014-03-28 10:52:42    782   \n\n                time3  site4               time4  site5  ... site6  \\\n0                 NaT      0                 NaT      0  ...     0   \n1 2014-02-22 11:19:51    941 2014-02-22 11:19:51    942  ...  3846   \n2 2013-12-16 16:40:19  14769 2013-12-16 16:40:19     37  ...    39   \n3 2014-03-28 10:53:12    782 2014-03-28 10:53:42    782  ...   782   \n\n                time6  site7               time7  site8               time8  \\\n0                 NaT      0                 NaT      0                 NaT   \n1 2014-02-22 11:19:51   3847 2014-02-22 11:19:52   3846 2014-02-22 11:19:52   \n2 2013-12-16 16:40:19  14768 2013-12-16 16:40:20  14768 2013-12-16 16:40:21   \n3 2014-03-28 10:54:42    782 2014-03-28 10:55:12    782 2014-03-28 10:55:42   \n\n   site9               time9 site10              time10  \n0      0                 NaT      0                 NaT  \n1   1516 2014-02-22 11:20:15   1518 2014-02-22 11:20:16  \n2  14768 2013-12-16 16:40:22  14768 2013-12-16 16:40:24  \n3    782 2014-03-28 10:56:12    782 2014-03-28 10:56:42  \n\n[4 rows x 21 columns]",
            "text/html": "<div>\n<style scoped>\n    .dataframe tbody tr th:only-of-type {\n        vertical-align: middle;\n    }\n\n    .dataframe tbody tr th {\n        vertical-align: top;\n    }\n\n    .dataframe thead th {\n        text-align: right;\n    }\n</style>\n<table border=\"1\" class=\"dataframe\">\n  <thead>\n    <tr style=\"text-align: right;\">\n      <th></th>\n      <th>session_id</th>\n      <th>site1</th>\n      <th>time1</th>\n      <th>site2</th>\n      <th>time2</th>\n      <th>site3</th>\n      <th>time3</th>\n      <th>site4</th>\n      <th>time4</th>\n      <th>site5</th>\n      <th>...</th>\n      <th>site6</th>\n      <th>time6</th>\n      <th>site7</th>\n      <th>time7</th>\n      <th>site8</th>\n      <th>time8</th>\n      <th>site9</th>\n      <th>time9</th>\n      <th>site10</th>\n      <th>time10</th>\n    </tr>\n  </thead>\n  <tbody>\n    <tr>\n      <th>0</th>\n      <td>1</td>\n      <td>718</td>\n      <td>2014-02-20 10:02:45</td>\n      <td>0</td>\n      <td>NaT</td>\n      <td>0</td>\n      <td>NaT</td>\n      <td>0</td>\n      <td>NaT</td>\n      <td>0</td>\n      <td>...</td>\n      <td>0</td>\n      <td>NaT</td>\n      <td>0</td>\n      <td>NaT</td>\n      <td>0</td>\n      <td>NaT</td>\n      <td>0</td>\n      <td>NaT</td>\n      <td>0</td>\n      <td>NaT</td>\n    </tr>\n    <tr>\n      <th>1</th>\n      <td>2</td>\n      <td>890</td>\n      <td>2014-02-22 11:19:50</td>\n      <td>941</td>\n      <td>2014-02-22 11:19:50</td>\n      <td>3847</td>\n      <td>2014-02-22 11:19:51</td>\n      <td>941</td>\n      <td>2014-02-22 11:19:51</td>\n      <td>942</td>\n      <td>...</td>\n      <td>3846</td>\n      <td>2014-02-22 11:19:51</td>\n      <td>3847</td>\n      <td>2014-02-22 11:19:52</td>\n      <td>3846</td>\n      <td>2014-02-22 11:19:52</td>\n      <td>1516</td>\n      <td>2014-02-22 11:20:15</td>\n      <td>1518</td>\n      <td>2014-02-22 11:20:16</td>\n    </tr>\n    <tr>\n      <th>2</th>\n      <td>3</td>\n      <td>14769</td>\n      <td>2013-12-16 16:40:17</td>\n      <td>39</td>\n      <td>2013-12-16 16:40:18</td>\n      <td>14768</td>\n      <td>2013-12-16 16:40:19</td>\n      <td>14769</td>\n      <td>2013-12-16 16:40:19</td>\n      <td>37</td>\n      <td>...</td>\n      <td>39</td>\n      <td>2013-12-16 16:40:19</td>\n      <td>14768</td>\n      <td>2013-12-16 16:40:20</td>\n      <td>14768</td>\n      <td>2013-12-16 16:40:21</td>\n      <td>14768</td>\n      <td>2013-12-16 16:40:22</td>\n      <td>14768</td>\n      <td>2013-12-16 16:40:24</td>\n    </tr>\n    <tr>\n      <th>3</th>\n      <td>4</td>\n      <td>782</td>\n      <td>2014-03-28 10:52:12</td>\n      <td>782</td>\n      <td>2014-03-28 10:52:42</td>\n      <td>782</td>\n      <td>2014-03-28 10:53:12</td>\n      <td>782</td>\n      <td>2014-03-28 10:53:42</td>\n      <td>782</td>\n      <td>...</td>\n      <td>782</td>\n      <td>2014-03-28 10:54:42</td>\n      <td>782</td>\n      <td>2014-03-28 10:55:12</td>\n      <td>782</td>\n      <td>2014-03-28 10:55:42</td>\n      <td>782</td>\n      <td>2014-03-28 10:56:12</td>\n      <td>782</td>\n      <td>2014-03-28 10:56:42</td>\n    </tr>\n  </tbody>\n</table>\n<p>4 rows × 21 columns</p>\n</div>"
          },
          "metadata": {}
        }
      ]
    },
    {
      "cell_type": "markdown",
      "source": "## 1.2 Работа с разреженным форматом данных",
      "metadata": {
        "id": "YZAZP5-w1_vS"
      }
    },
    {
      "cell_type": "markdown",
      "source": "Сформировать мешок сайтов. То есть необходимо создать новые матрицы, в которых строкам будут соответствовать сессии из 10 сайтов, а столбцам – индексы сайтов. На пересечении строки и столбца будет стоять число – количество раз, которое встретился сайт в сессии номер N.",
      "metadata": {
        "id": "X832-2nj2FkR"
      }
    },
    {
      "cell_type": "code",
      "source": "from sklearn.feature_extraction.text import CountVectorizer\n\ndef row_to_text(row):\n    return ' '.join(map(str, row))\n\nsites_text = sites_df.apply(row_to_text, axis=1)\n\ncv = CountVectorizer()\nnew_features = cv.fit_transform(sites_text)\nprint(new_features)",
      "metadata": {
        "colab": {
          "base_uri": "https://localhost:8080/"
        },
        "id": "y0GgQjmN2MXK",
        "outputId": "eb7babe1-b653-4002-d0a4-12a3a286bc7f",
        "trusted": true
      },
      "execution_count": 88,
      "outputs": [
        {
          "name": "stdout",
          "text": "  (0, 45232)\t1\n  (1, 47142)\t1\n  (1, 47708)\t2\n  (1, 31631)\t2\n  (1, 47719)\t1\n  (1, 31620)\t2\n  (1, 5734)\t1\n  (1, 5756)\t1\n  (2, 5299)\t2\n  (2, 32219)\t2\n  (2, 5298)\t5\n  (2, 29997)\t1\n  (3, 45943)\t10\n  (4, 13332)\t1\n  (4, 8555)\t4\n  (4, 8333)\t2\n  (4, 8666)\t3\n  (5, 43590)\t2\n  (5, 12221)\t3\n  (6, 29997)\t1\n  (6, 12221)\t1\n  (6, 46176)\t2\n  (6, 14443)\t1\n  (6, 43874)\t1\n  (6, 8349)\t1\n  :\t:\n  (336354, 22443)\t3\n  (336354, 22221)\t3\n  (336354, 2423)\t1\n  (336354, 2401)\t1\n  (336354, 2457)\t1\n  (336354, 2468)\t1\n  (336355, 29997)\t1\n  (336355, 13332)\t1\n  (336355, 12221)\t1\n  (336355, 14443)\t1\n  (336355, 21109)\t1\n  (336355, 25553)\t1\n  (336355, 27775)\t1\n  (336355, 22220)\t1\n  (336355, 44787)\t1\n  (336355, 44789)\t1\n  (336356, 12221)\t3\n  (336356, 14443)\t2\n  (336356, 47930)\t1\n  (336356, 43732)\t1\n  (336356, 26110)\t1\n  (336356, 46187)\t1\n  (336356, 47186)\t1\n  (336357, 12221)\t1\n  (336357, 1089)\t9\n",
          "output_type": "stream"
        }
      ]
    },
    {
      "cell_type": "code",
      "source": "new_features_train = new_features[:253561]\nnew_features_test = new_features[:253561]",
      "metadata": {
        "trusted": true
      },
      "execution_count": 89,
      "outputs": []
    },
    {
      "cell_type": "markdown",
      "source": "Мы получили разряжённую матрицу которую можем преобразовать в датафрейм",
      "metadata": {
        "id": "4WFUuSRb4ZRa"
      }
    },
    {
      "cell_type": "markdown",
      "source": "## 1.3 Визуализация данных",
      "metadata": {
        "id": "l860hsPk5q9L"
      }
    },
    {
      "cell_type": "code",
      "source": "# Посмотрим взаимную информацию уже по текущим данным\nX=sites_df[:253561]\ndiscrete_features = X.dtypes == int\nfrom sklearn.feature_selection import mutual_info_regression\n\ndef make_mi_scores(X, y, discrete_features):\n    mi_scores = mutual_info_regression(X, y, discrete_features=discrete_features)\n    mi_scores = pd.Series(mi_scores, name=\"MI Scores\", index=X.columns)\n    mi_scores = mi_scores.sort_values(ascending=False)\n    return mi_scores\n\nmi_scores = make_mi_scores(X, y, discrete_features)\nmi_scores[::3]",
      "metadata": {
        "colab": {
          "base_uri": "https://localhost:8080/"
        },
        "id": "Zmmz2oVb4PLf",
        "outputId": "14dbbee2-0d2e-4e4d-d19a-b2f6660d6f40",
        "trusted": true
      },
      "execution_count": 90,
      "outputs": [
        {
          "execution_count": 90,
          "output_type": "execute_result",
          "data": {
            "text/plain": "site1     0.013650\nsite10    0.012802\nsite5     0.011846\nsite6     0.009835\nName: MI Scores, dtype: float64"
          },
          "metadata": {}
        }
      ]
    },
    {
      "cell_type": "code",
      "source": "# Дабавим новые значения такие как время начала и день начала\ndata_all['start_hour'] = data_all['time1'].dt.hour\ndata_all['weekday'] = data_all['time1'].dt.weekday",
      "metadata": {
        "id": "aCLRwJgsBJrM",
        "trusted": true
      },
      "execution_count": 91,
      "outputs": []
    },
    {
      "cell_type": "code",
      "source": "time = pd.concat([data_all['start_hour'][:253561], y], axis=1)\ntime[time['target'] == 1]['start_hour'].hist(color='black', bins=50)\nplt.title('Часы начала активности злоумышленника')\nplt.grid(False);",
      "metadata": {
        "colab": {
          "base_uri": "https://localhost:8080/",
          "height": 452
        },
        "id": "4KyxIpTaDaes",
        "outputId": "b6f25272-1223-441e-b9af-e707b7d6105b",
        "trusted": true
      },
      "execution_count": 92,
      "outputs": [
        {
          "output_type": "display_data",
          "data": {
            "text/plain": "<Figure size 640x480 with 1 Axes>",
            "image/png": "[encoded data removed]"
          },
          "metadata": {}
        }
      ]
    },
    {
      "cell_type": "code",
      "source": "time[time['target'] == 0]['start_hour'].hist(color='black', bins=50)\nplt.title('Часы начала активности обычного пользователя')\nplt.grid(False);",
      "metadata": {
        "colab": {
          "base_uri": "https://localhost:8080/",
          "height": 452
        },
        "id": "CQAPc-E4FcW4",
        "outputId": "0a61751a-c931-4dd3-a41d-a7ad556c4e36",
        "trusted": true
      },
      "execution_count": 93,
      "outputs": [
        {
          "output_type": "display_data",
          "data": {
            "text/plain": "<Figure size 640x480 with 1 Axes>",
            "image/png": "[encoded data removed]"
          },
          "metadata": {}
        }
      ]
    },
    {
      "cell_type": "code",
      "source": "day = pd.concat([data_all['weekday'][:253561], y], axis=1)\nday[day['target'] == 0]['weekday'].hist(color='black', bins=40)\nplt.title('Дни начала активности обычного пользователя')\nplt.grid(False);",
      "metadata": {
        "colab": {
          "base_uri": "https://localhost:8080/",
          "height": 452
        },
        "id": "Fq37I5LlFjwh",
        "outputId": "27911536-ec0d-430c-dcb3-eb04934dd391",
        "trusted": true
      },
      "execution_count": 94,
      "outputs": [
        {
          "output_type": "display_data",
          "data": {
            "text/plain": "<Figure size 640x480 with 1 Axes>",
            "image/png": "[encoded data removed]"
          },
          "metadata": {}
        }
      ]
    },
    {
      "cell_type": "code",
      "source": "day[day['target'] == 1]['weekday'].hist(color='black', bins=40)\nplt.title('Дни начала активности злоумышленника')\nplt.grid(False);",
      "metadata": {
        "colab": {
          "base_uri": "https://localhost:8080/",
          "height": 452
        },
        "id": "vJqEoApCF_XA",
        "outputId": "fcc6003f-d10b-4fa8-9607-b7fdfdb1c501",
        "trusted": true
      },
      "execution_count": 95,
      "outputs": [
        {
          "output_type": "display_data",
          "data": {
            "text/plain": "<Figure size 640x480 with 1 Axes>",
            "image/png": "[encoded data removed]"
          },
          "metadata": {}
        }
      ]
    },
    {
      "cell_type": "markdown",
      "source": "Из полученных гистограмм мы можем видень что сеансы злоумышленника начинаются в понедельник, вторник, четверг и в 16-17 часов",
      "metadata": {
        "id": "gOuX8gkNGemA"
      }
    },
    {
      "cell_type": "markdown",
      "source": "## 1.4 Конструирование признаков (Feature Engineering)",
      "metadata": {
        "id": "_x_-oMgJHFs6"
      }
    },
    {
      "cell_type": "markdown",
      "source": "Необходимо создать такой признак, который будет представлять собой число вида ГГГГММ от той даты, когда проходила сессия. Например, 201407 - 2014 год и 7 месяц. Таким образом, мы будем учитывать помесячный линейный тренд за весь период предоставленных данных.",
      "metadata": {
        "id": "KhSeqLUpHScJ"
      }
    },
    {
      "cell_type": "code",
      "source": "data_all['ГГГГММ'] = data_all['time1'].apply(lambda x: str(x.year)) +\\\n    data_all['time1'].apply(lambda x: '0'+str(x.month) if len(str(x.month)) < 2 else str(x.month))\n\ndata_all['ГГГГММ']",
      "metadata": {
        "colab": {
          "base_uri": "https://localhost:8080/"
        },
        "id": "0eUHZaZGGGHz",
        "outputId": "d28c39ee-067e-4966-ad92-110ffb8cd678",
        "trusted": true
      },
      "execution_count": 96,
      "outputs": [
        {
          "execution_count": 96,
          "output_type": "execute_result",
          "data": {
            "text/plain": "0         201402\n1         201402\n2         201312\n3         201403\n4         201402\n           ...  \n336353    201410\n336354    201405\n336355    201405\n336356    201405\n336357    201411\nName: ГГГГММ, Length: 336358, dtype: object"
          },
          "metadata": {}
        }
      ]
    },
    {
      "cell_type": "markdown",
      "source": "Так же добавим несколько новых признаков таких как часы и дни начала сессий и прибавим к нашим данным таблицу полученную из разряженной матрицы",
      "metadata": {
        "id": "rA0YrxaDHeNR"
      }
    },
    {
      "cell_type": "code",
      "source": "# Как все данные выглядят на текущий момент\ndata_all.head(4).T",
      "metadata": {
        "colab": {
          "base_uri": "https://localhost:8080/",
          "height": 802
        },
        "id": "S-nIU0fKHdGr",
        "outputId": "5e3f465a-0e43-4efa-d6a7-ea689fc01219",
        "trusted": true
      },
      "execution_count": 97,
      "outputs": [
        {
          "execution_count": 97,
          "output_type": "execute_result",
          "data": {
            "text/plain": "                              0                    1                    2  \\\nsession_id                    1                    2                    3   \nsite1                       718                  890                14769   \ntime1       2014-02-20 10:02:45  2014-02-22 11:19:50  2013-12-16 16:40:17   \nsite2                         0                  941                   39   \ntime2                       NaT  2014-02-22 11:19:50  2013-12-16 16:40:18   \nsite3                         0                 3847                14768   \ntime3                       NaT  2014-02-22 11:19:51  2013-12-16 16:40:19   \nsite4                         0                  941                14769   \ntime4                       NaT  2014-02-22 11:19:51  2013-12-16 16:40:19   \nsite5                         0                  942                   37   \ntime5                       NaT  2014-02-22 11:19:51  2013-12-16 16:40:19   \nsite6                         0                 3846                   39   \ntime6                       NaT  2014-02-22 11:19:51  2013-12-16 16:40:19   \nsite7                         0                 3847                14768   \ntime7                       NaT  2014-02-22 11:19:52  2013-12-16 16:40:20   \nsite8                         0                 3846                14768   \ntime8                       NaT  2014-02-22 11:19:52  2013-12-16 16:40:21   \nsite9                         0                 1516                14768   \ntime9                       NaT  2014-02-22 11:20:15  2013-12-16 16:40:22   \nsite10                        0                 1518                14768   \ntime10                      NaT  2014-02-22 11:20:16  2013-12-16 16:40:24   \nstart_hour                   10                   11                   16   \nweekday                       3                    5                    0   \nГГГГММ                   201402               201402               201312   \n\n                              3  \nsession_id                    4  \nsite1                       782  \ntime1       2014-03-28 10:52:12  \nsite2                       782  \ntime2       2014-03-28 10:52:42  \nsite3                       782  \ntime3       2014-03-28 10:53:12  \nsite4                       782  \ntime4       2014-03-28 10:53:42  \nsite5                       782  \ntime5       2014-03-28 10:54:12  \nsite6                       782  \ntime6       2014-03-28 10:54:42  \nsite7                       782  \ntime7       2014-03-28 10:55:12  \nsite8                       782  \ntime8       2014-03-28 10:55:42  \nsite9                       782  \ntime9       2014-03-28 10:56:12  \nsite10                      782  \ntime10      2014-03-28 10:56:42  \nstart_hour                   10  \nweekday                       4  \nГГГГММ                   201403  ",
            "text/html": "<div>\n<style scoped>\n    .dataframe tbody tr th:only-of-type {\n        vertical-align: middle;\n    }\n\n    .dataframe tbody tr th {\n        vertical-align: top;\n    }\n\n    .dataframe thead th {\n        text-align: right;\n    }\n</style>\n<table border=\"1\" class=\"dataframe\">\n  <thead>\n    <tr style=\"text-align: right;\">\n      <th></th>\n      <th>0</th>\n      <th>1</th>\n      <th>2</th>\n      <th>3</th>\n    </tr>\n  </thead>\n  <tbody>\n    <tr>\n      <th>session_id</th>\n      <td>1</td>\n      <td>2</td>\n      <td>3</td>\n      <td>4</td>\n    </tr>\n    <tr>\n      <th>site1</th>\n      <td>718</td>\n      <td>890</td>\n      <td>14769</td>\n      <td>782</td>\n    </tr>\n    <tr>\n      <th>time1</th>\n      <td>2014-02-20 10:02:45</td>\n      <td>2014-02-22 11:19:50</td>\n      <td>2013-12-16 16:40:17</td>\n      <td>2014-03-28 10:52:12</td>\n    </tr>\n    <tr>\n      <th>site2</th>\n      <td>0</td>\n      <td>941</td>\n      <td>39</td>\n      <td>782</td>\n    </tr>\n    <tr>\n      <th>time2</th>\n      <td>NaT</td>\n      <td>2014-02-22 11:19:50</td>\n      <td>2013-12-16 16:40:18</td>\n      <td>2014-03-28 10:52:42</td>\n    </tr>\n    <tr>\n      <th>site3</th>\n      <td>0</td>\n      <td>3847</td>\n      <td>14768</td>\n      <td>782</td>\n    </tr>\n    <tr>\n      <th>time3</th>\n      <td>NaT</td>\n      <td>2014-02-22 11:19:51</td>\n      <td>2013-12-16 16:40:19</td>\n      <td>2014-03-28 10:53:12</td>\n    </tr>\n    <tr>\n      <th>site4</th>\n      <td>0</td>\n      <td>941</td>\n      <td>14769</td>\n      <td>782</td>\n    </tr>\n    <tr>\n      <th>time4</th>\n      <td>NaT</td>\n      <td>2014-02-22 11:19:51</td>\n      <td>2013-12-16 16:40:19</td>\n      <td>2014-03-28 10:53:42</td>\n    </tr>\n    <tr>\n      <th>site5</th>\n      <td>0</td>\n      <td>942</td>\n      <td>37</td>\n      <td>782</td>\n    </tr>\n    <tr>\n      <th>time5</th>\n      <td>NaT</td>\n      <td>2014-02-22 11:19:51</td>\n      <td>2013-12-16 16:40:19</td>\n      <td>2014-03-28 10:54:12</td>\n    </tr>\n    <tr>\n      <th>site6</th>\n      <td>0</td>\n      <td>3846</td>\n      <td>39</td>\n      <td>782</td>\n    </tr>\n    <tr>\n      <th>time6</th>\n      <td>NaT</td>\n      <td>2014-02-22 11:19:51</td>\n      <td>2013-12-16 16:40:19</td>\n      <td>2014-03-28 10:54:42</td>\n    </tr>\n    <tr>\n      <th>site7</th>\n      <td>0</td>\n      <td>3847</td>\n      <td>14768</td>\n      <td>782</td>\n    </tr>\n    <tr>\n      <th>time7</th>\n      <td>NaT</td>\n      <td>2014-02-22 11:19:52</td>\n      <td>2013-12-16 16:40:20</td>\n      <td>2014-03-28 10:55:12</td>\n    </tr>\n    <tr>\n      <th>site8</th>\n      <td>0</td>\n      <td>3846</td>\n      <td>14768</td>\n      <td>782</td>\n    </tr>\n    <tr>\n      <th>time8</th>\n      <td>NaT</td>\n      <td>2014-02-22 11:19:52</td>\n      <td>2013-12-16 16:40:21</td>\n      <td>2014-03-28 10:55:42</td>\n    </tr>\n    <tr>\n      <th>site9</th>\n      <td>0</td>\n      <td>1516</td>\n      <td>14768</td>\n      <td>782</td>\n    </tr>\n    <tr>\n      <th>time9</th>\n      <td>NaT</td>\n      <td>2014-02-22 11:20:15</td>\n      <td>2013-12-16 16:40:22</td>\n      <td>2014-03-28 10:56:12</td>\n    </tr>\n    <tr>\n      <th>site10</th>\n      <td>0</td>\n      <td>1518</td>\n      <td>14768</td>\n      <td>782</td>\n    </tr>\n    <tr>\n      <th>time10</th>\n      <td>NaT</td>\n      <td>2014-02-22 11:20:16</td>\n      <td>2013-12-16 16:40:24</td>\n      <td>2014-03-28 10:56:42</td>\n    </tr>\n    <tr>\n      <th>start_hour</th>\n      <td>10</td>\n      <td>11</td>\n      <td>16</td>\n      <td>10</td>\n    </tr>\n    <tr>\n      <th>weekday</th>\n      <td>3</td>\n      <td>5</td>\n      <td>0</td>\n      <td>4</td>\n    </tr>\n    <tr>\n      <th>ГГГГММ</th>\n      <td>201402</td>\n      <td>201402</td>\n      <td>201312</td>\n      <td>201403</td>\n    </tr>\n  </tbody>\n</table>\n</div>"
          },
          "metadata": {}
        }
      ]
    },
    {
      "cell_type": "markdown",
      "source": "Такие признаки как время и день начала сессии уже добавленны",
      "metadata": {
        "id": "PEsaGxJuIbMC"
      }
    },
    {
      "cell_type": "markdown",
      "source": "Добавим такой признак как длина сесии",
      "metadata": {}
    },
    {
      "cell_type": "code",
      "source": "end = data_all['time10']\nstart = data_all['time1']\ndif = end - start\n\ndata_all['sesion_time'] = dif.dt.total_seconds()",
      "metadata": {
        "trusted": true
      },
      "execution_count": 98,
      "outputs": []
    },
    {
      "cell_type": "code",
      "source": "data_all.head(4).T",
      "metadata": {
        "trusted": true
      },
      "execution_count": 99,
      "outputs": [
        {
          "execution_count": 99,
          "output_type": "execute_result",
          "data": {
            "text/plain": "                               0                    1                    2  \\\nsession_id                     1                    2                    3   \nsite1                        718                  890                14769   \ntime1        2014-02-20 10:02:45  2014-02-22 11:19:50  2013-12-16 16:40:17   \nsite2                          0                  941                   39   \ntime2                        NaT  2014-02-22 11:19:50  2013-12-16 16:40:18   \nsite3                          0                 3847                14768   \ntime3                        NaT  2014-02-22 11:19:51  2013-12-16 16:40:19   \nsite4                          0                  941                14769   \ntime4                        NaT  2014-02-22 11:19:51  2013-12-16 16:40:19   \nsite5                          0                  942                   37   \ntime5                        NaT  2014-02-22 11:19:51  2013-12-16 16:40:19   \nsite6                          0                 3846                   39   \ntime6                        NaT  2014-02-22 11:19:51  2013-12-16 16:40:19   \nsite7                          0                 3847                14768   \ntime7                        NaT  2014-02-22 11:19:52  2013-12-16 16:40:20   \nsite8                          0                 3846                14768   \ntime8                        NaT  2014-02-22 11:19:52  2013-12-16 16:40:21   \nsite9                          0                 1516                14768   \ntime9                        NaT  2014-02-22 11:20:15  2013-12-16 16:40:22   \nsite10                         0                 1518                14768   \ntime10                       NaT  2014-02-22 11:20:16  2013-12-16 16:40:24   \nstart_hour                    10                   11                   16   \nweekday                        3                    5                    0   \nГГГГММ                    201402               201402               201312   \nsesion_time                  NaN                 26.0                  7.0   \n\n                               3  \nsession_id                     4  \nsite1                        782  \ntime1        2014-03-28 10:52:12  \nsite2                        782  \ntime2        2014-03-28 10:52:42  \nsite3                        782  \ntime3        2014-03-28 10:53:12  \nsite4                        782  \ntime4        2014-03-28 10:53:42  \nsite5                        782  \ntime5        2014-03-28 10:54:12  \nsite6                        782  \ntime6        2014-03-28 10:54:42  \nsite7                        782  \ntime7        2014-03-28 10:55:12  \nsite8                        782  \ntime8        2014-03-28 10:55:42  \nsite9                        782  \ntime9        2014-03-28 10:56:12  \nsite10                       782  \ntime10       2014-03-28 10:56:42  \nstart_hour                    10  \nweekday                        4  \nГГГГММ                    201403  \nsesion_time                270.0  ",
            "text/html": "<div>\n<style scoped>\n    .dataframe tbody tr th:only-of-type {\n        vertical-align: middle;\n    }\n\n    .dataframe tbody tr th {\n        vertical-align: top;\n    }\n\n    .dataframe thead th {\n        text-align: right;\n    }\n</style>\n<table border=\"1\" class=\"dataframe\">\n  <thead>\n    <tr style=\"text-align: right;\">\n      <th></th>\n      <th>0</th>\n      <th>1</th>\n      <th>2</th>\n      <th>3</th>\n    </tr>\n  </thead>\n  <tbody>\n    <tr>\n      <th>session_id</th>\n      <td>1</td>\n      <td>2</td>\n      <td>3</td>\n      <td>4</td>\n    </tr>\n    <tr>\n      <th>site1</th>\n      <td>718</td>\n      <td>890</td>\n      <td>14769</td>\n      <td>782</td>\n    </tr>\n    <tr>\n      <th>time1</th>\n      <td>2014-02-20 10:02:45</td>\n      <td>2014-02-22 11:19:50</td>\n      <td>2013-12-16 16:40:17</td>\n      <td>2014-03-28 10:52:12</td>\n    </tr>\n    <tr>\n      <th>site2</th>\n      <td>0</td>\n      <td>941</td>\n      <td>39</td>\n      <td>782</td>\n    </tr>\n    <tr>\n      <th>time2</th>\n      <td>NaT</td>\n      <td>2014-02-22 11:19:50</td>\n      <td>2013-12-16 16:40:18</td>\n      <td>2014-03-28 10:52:42</td>\n    </tr>\n    <tr>\n      <th>site3</th>\n      <td>0</td>\n      <td>3847</td>\n      <td>14768</td>\n      <td>782</td>\n    </tr>\n    <tr>\n      <th>time3</th>\n      <td>NaT</td>\n      <td>2014-02-22 11:19:51</td>\n      <td>2013-12-16 16:40:19</td>\n      <td>2014-03-28 10:53:12</td>\n    </tr>\n    <tr>\n      <th>site4</th>\n      <td>0</td>\n      <td>941</td>\n      <td>14769</td>\n      <td>782</td>\n    </tr>\n    <tr>\n      <th>time4</th>\n      <td>NaT</td>\n      <td>2014-02-22 11:19:51</td>\n      <td>2013-12-16 16:40:19</td>\n      <td>2014-03-28 10:53:42</td>\n    </tr>\n    <tr>\n      <th>site5</th>\n      <td>0</td>\n      <td>942</td>\n      <td>37</td>\n      <td>782</td>\n    </tr>\n    <tr>\n      <th>time5</th>\n      <td>NaT</td>\n      <td>2014-02-22 11:19:51</td>\n      <td>2013-12-16 16:40:19</td>\n      <td>2014-03-28 10:54:12</td>\n    </tr>\n    <tr>\n      <th>site6</th>\n      <td>0</td>\n      <td>3846</td>\n      <td>39</td>\n      <td>782</td>\n    </tr>\n    <tr>\n      <th>time6</th>\n      <td>NaT</td>\n      <td>2014-02-22 11:19:51</td>\n      <td>2013-12-16 16:40:19</td>\n      <td>2014-03-28 10:54:42</td>\n    </tr>\n    <tr>\n      <th>site7</th>\n      <td>0</td>\n      <td>3847</td>\n      <td>14768</td>\n      <td>782</td>\n    </tr>\n    <tr>\n      <th>time7</th>\n      <td>NaT</td>\n      <td>2014-02-22 11:19:52</td>\n      <td>2013-12-16 16:40:20</td>\n      <td>2014-03-28 10:55:12</td>\n    </tr>\n    <tr>\n      <th>site8</th>\n      <td>0</td>\n      <td>3846</td>\n      <td>14768</td>\n      <td>782</td>\n    </tr>\n    <tr>\n      <th>time8</th>\n      <td>NaT</td>\n      <td>2014-02-22 11:19:52</td>\n      <td>2013-12-16 16:40:21</td>\n      <td>2014-03-28 10:55:42</td>\n    </tr>\n    <tr>\n      <th>site9</th>\n      <td>0</td>\n      <td>1516</td>\n      <td>14768</td>\n      <td>782</td>\n    </tr>\n    <tr>\n      <th>time9</th>\n      <td>NaT</td>\n      <td>2014-02-22 11:20:15</td>\n      <td>2013-12-16 16:40:22</td>\n      <td>2014-03-28 10:56:12</td>\n    </tr>\n    <tr>\n      <th>site10</th>\n      <td>0</td>\n      <td>1518</td>\n      <td>14768</td>\n      <td>782</td>\n    </tr>\n    <tr>\n      <th>time10</th>\n      <td>NaT</td>\n      <td>2014-02-22 11:20:16</td>\n      <td>2013-12-16 16:40:24</td>\n      <td>2014-03-28 10:56:42</td>\n    </tr>\n    <tr>\n      <th>start_hour</th>\n      <td>10</td>\n      <td>11</td>\n      <td>16</td>\n      <td>10</td>\n    </tr>\n    <tr>\n      <th>weekday</th>\n      <td>3</td>\n      <td>5</td>\n      <td>0</td>\n      <td>4</td>\n    </tr>\n    <tr>\n      <th>ГГГГММ</th>\n      <td>201402</td>\n      <td>201402</td>\n      <td>201312</td>\n      <td>201403</td>\n    </tr>\n    <tr>\n      <th>sesion_time</th>\n      <td>NaN</td>\n      <td>26.0</td>\n      <td>7.0</td>\n      <td>270.0</td>\n    </tr>\n  </tbody>\n</table>\n</div>"
          },
          "metadata": {}
        }
      ]
    },
    {
      "cell_type": "markdown",
      "source": "Так как из столбцов time мы использовали всю информацию принято решение избавится от них",
      "metadata": {}
    },
    {
      "cell_type": "code",
      "source": "time = [f'time{i}' for i in range(1, 11)]\nfor col in time:\n    data_all.drop(columns=[col], inplace=True)",
      "metadata": {
        "trusted": true
      },
      "execution_count": 100,
      "outputs": []
    },
    {
      "cell_type": "markdown",
      "source": "# 1.5 Выгрузка данных",
      "metadata": {
        "id": "MNYNMh5FIR3N"
      }
    },
    {
      "cell_type": "code",
      "source": "# Полученный датасет\ndata_all.head(4)",
      "metadata": {
        "trusted": true
      },
      "execution_count": 101,
      "outputs": [
        {
          "execution_count": 101,
          "output_type": "execute_result",
          "data": {
            "text/plain": "   session_id  site1  site2  site3  site4  site5  site6  site7  site8  site9  \\\n0           1    718      0      0      0      0      0      0      0      0   \n1           2    890    941   3847    941    942   3846   3847   3846   1516   \n2           3  14769     39  14768  14769     37     39  14768  14768  14768   \n3           4    782    782    782    782    782    782    782    782    782   \n\n   site10  start_hour  weekday  ГГГГММ  sesion_time  \n0       0          10        3  201402          NaN  \n1    1518          11        5  201402         26.0  \n2   14768          16        0  201312          7.0  \n3     782          10        4  201403        270.0  ",
            "text/html": "<div>\n<style scoped>\n    .dataframe tbody tr th:only-of-type {\n        vertical-align: middle;\n    }\n\n    .dataframe tbody tr th {\n        vertical-align: top;\n    }\n\n    .dataframe thead th {\n        text-align: right;\n    }\n</style>\n<table border=\"1\" class=\"dataframe\">\n  <thead>\n    <tr style=\"text-align: right;\">\n      <th></th>\n      <th>session_id</th>\n      <th>site1</th>\n      <th>site2</th>\n      <th>site3</th>\n      <th>site4</th>\n      <th>site5</th>\n      <th>site6</th>\n      <th>site7</th>\n      <th>site8</th>\n      <th>site9</th>\n      <th>site10</th>\n      <th>start_hour</th>\n      <th>weekday</th>\n      <th>ГГГГММ</th>\n      <th>sesion_time</th>\n    </tr>\n  </thead>\n  <tbody>\n    <tr>\n      <th>0</th>\n      <td>1</td>\n      <td>718</td>\n      <td>0</td>\n      <td>0</td>\n      <td>0</td>\n      <td>0</td>\n      <td>0</td>\n      <td>0</td>\n      <td>0</td>\n      <td>0</td>\n      <td>0</td>\n      <td>10</td>\n      <td>3</td>\n      <td>201402</td>\n      <td>NaN</td>\n    </tr>\n    <tr>\n      <th>1</th>\n      <td>2</td>\n      <td>890</td>\n      <td>941</td>\n      <td>3847</td>\n      <td>941</td>\n      <td>942</td>\n      <td>3846</td>\n      <td>3847</td>\n      <td>3846</td>\n      <td>1516</td>\n      <td>1518</td>\n      <td>11</td>\n      <td>5</td>\n      <td>201402</td>\n      <td>26.0</td>\n    </tr>\n    <tr>\n      <th>2</th>\n      <td>3</td>\n      <td>14769</td>\n      <td>39</td>\n      <td>14768</td>\n      <td>14769</td>\n      <td>37</td>\n      <td>39</td>\n      <td>14768</td>\n      <td>14768</td>\n      <td>14768</td>\n      <td>14768</td>\n      <td>16</td>\n      <td>0</td>\n      <td>201312</td>\n      <td>7.0</td>\n    </tr>\n    <tr>\n      <th>3</th>\n      <td>4</td>\n      <td>782</td>\n      <td>782</td>\n      <td>782</td>\n      <td>782</td>\n      <td>782</td>\n      <td>782</td>\n      <td>782</td>\n      <td>782</td>\n      <td>782</td>\n      <td>782</td>\n      <td>10</td>\n      <td>4</td>\n      <td>201403</td>\n      <td>270.0</td>\n    </tr>\n  </tbody>\n</table>\n</div>"
          },
          "metadata": {}
        }
      ]
    },
    {
      "cell_type": "code",
      "source": "# Разабьём на тренеровочный и тестовый наборы\ntrain = data_all[:253561]\ntest = data_all[253561:]\n\n# Так же тренеровочному набору вернём столбец с целевой меткой\ntrain = pd.concat([train, y], axis=1)\n\ntrain.head(4)",
      "metadata": {
        "trusted": true
      },
      "execution_count": 102,
      "outputs": [
        {
          "execution_count": 102,
          "output_type": "execute_result",
          "data": {
            "text/plain": "   session_id  site1  site2  site3  site4  site5  site6  site7  site8  site9  \\\n0           1    718      0      0      0      0      0      0      0      0   \n1           2    890    941   3847    941    942   3846   3847   3846   1516   \n2           3  14769     39  14768  14769     37     39  14768  14768  14768   \n3           4    782    782    782    782    782    782    782    782    782   \n\n   site10  start_hour  weekday  ГГГГММ  sesion_time  target  \n0       0          10        3  201402          NaN       0  \n1    1518          11        5  201402         26.0       0  \n2   14768          16        0  201312          7.0       0  \n3     782          10        4  201403        270.0       0  ",
            "text/html": "<div>\n<style scoped>\n    .dataframe tbody tr th:only-of-type {\n        vertical-align: middle;\n    }\n\n    .dataframe tbody tr th {\n        vertical-align: top;\n    }\n\n    .dataframe thead th {\n        text-align: right;\n    }\n</style>\n<table border=\"1\" class=\"dataframe\">\n  <thead>\n    <tr style=\"text-align: right;\">\n      <th></th>\n      <th>session_id</th>\n      <th>site1</th>\n      <th>site2</th>\n      <th>site3</th>\n      <th>site4</th>\n      <th>site5</th>\n      <th>site6</th>\n      <th>site7</th>\n      <th>site8</th>\n      <th>site9</th>\n      <th>site10</th>\n      <th>start_hour</th>\n      <th>weekday</th>\n      <th>ГГГГММ</th>\n      <th>sesion_time</th>\n      <th>target</th>\n    </tr>\n  </thead>\n  <tbody>\n    <tr>\n      <th>0</th>\n      <td>1</td>\n      <td>718</td>\n      <td>0</td>\n      <td>0</td>\n      <td>0</td>\n      <td>0</td>\n      <td>0</td>\n      <td>0</td>\n      <td>0</td>\n      <td>0</td>\n      <td>0</td>\n      <td>10</td>\n      <td>3</td>\n      <td>201402</td>\n      <td>NaN</td>\n      <td>0</td>\n    </tr>\n    <tr>\n      <th>1</th>\n      <td>2</td>\n      <td>890</td>\n      <td>941</td>\n      <td>3847</td>\n      <td>941</td>\n      <td>942</td>\n      <td>3846</td>\n      <td>3847</td>\n      <td>3846</td>\n      <td>1516</td>\n      <td>1518</td>\n      <td>11</td>\n      <td>5</td>\n      <td>201402</td>\n      <td>26.0</td>\n      <td>0</td>\n    </tr>\n    <tr>\n      <th>2</th>\n      <td>3</td>\n      <td>14769</td>\n      <td>39</td>\n      <td>14768</td>\n      <td>14769</td>\n      <td>37</td>\n      <td>39</td>\n      <td>14768</td>\n      <td>14768</td>\n      <td>14768</td>\n      <td>14768</td>\n      <td>16</td>\n      <td>0</td>\n      <td>201312</td>\n      <td>7.0</td>\n      <td>0</td>\n    </tr>\n    <tr>\n      <th>3</th>\n      <td>4</td>\n      <td>782</td>\n      <td>782</td>\n      <td>782</td>\n      <td>782</td>\n      <td>782</td>\n      <td>782</td>\n      <td>782</td>\n      <td>782</td>\n      <td>782</td>\n      <td>782</td>\n      <td>10</td>\n      <td>4</td>\n      <td>201403</td>\n      <td>270.0</td>\n      <td>0</td>\n    </tr>\n  </tbody>\n</table>\n</div>"
          },
          "metadata": {}
        }
      ]
    },
    {
      "cell_type": "code",
      "source": "test.head(4)",
      "metadata": {
        "trusted": true
      },
      "execution_count": 103,
      "outputs": [
        {
          "execution_count": 103,
          "output_type": "execute_result",
          "data": {
            "text/plain": "        session_id  site1  site2  site3  site4  site5  site6  site7  site8  \\\n253561           1     29     35     22    321     23   2211   6730     21   \n253562           2    782    782    782    782    782    782    782    782   \n253563           3     55     55     55     55     55     55     55     55   \n253564           4   1023   1022     50    222    202   3374     50     48   \n\n        site9  site10  start_hour  weekday  ГГГГММ  sesion_time  \n253561  44582   15336          11        5  201410          7.0  \n253562    782     782          11        3  201407         85.0  \n253563   1445    1445          15        4  201412         84.0  \n253564     48    3374          10        1  201411          4.0  ",
            "text/html": "<div>\n<style scoped>\n    .dataframe tbody tr th:only-of-type {\n        vertical-align: middle;\n    }\n\n    .dataframe tbody tr th {\n        vertical-align: top;\n    }\n\n    .dataframe thead th {\n        text-align: right;\n    }\n</style>\n<table border=\"1\" class=\"dataframe\">\n  <thead>\n    <tr style=\"text-align: right;\">\n      <th></th>\n      <th>session_id</th>\n      <th>site1</th>\n      <th>site2</th>\n      <th>site3</th>\n      <th>site4</th>\n      <th>site5</th>\n      <th>site6</th>\n      <th>site7</th>\n      <th>site8</th>\n      <th>site9</th>\n      <th>site10</th>\n      <th>start_hour</th>\n      <th>weekday</th>\n      <th>ГГГГММ</th>\n      <th>sesion_time</th>\n    </tr>\n  </thead>\n  <tbody>\n    <tr>\n      <th>253561</th>\n      <td>1</td>\n      <td>29</td>\n      <td>35</td>\n      <td>22</td>\n      <td>321</td>\n      <td>23</td>\n      <td>2211</td>\n      <td>6730</td>\n      <td>21</td>\n      <td>44582</td>\n      <td>15336</td>\n      <td>11</td>\n      <td>5</td>\n      <td>201410</td>\n      <td>7.0</td>\n    </tr>\n    <tr>\n      <th>253562</th>\n      <td>2</td>\n      <td>782</td>\n      <td>782</td>\n      <td>782</td>\n      <td>782</td>\n      <td>782</td>\n      <td>782</td>\n      <td>782</td>\n      <td>782</td>\n      <td>782</td>\n      <td>782</td>\n      <td>11</td>\n      <td>3</td>\n      <td>201407</td>\n      <td>85.0</td>\n    </tr>\n    <tr>\n      <th>253563</th>\n      <td>3</td>\n      <td>55</td>\n      <td>55</td>\n      <td>55</td>\n      <td>55</td>\n      <td>55</td>\n      <td>55</td>\n      <td>55</td>\n      <td>55</td>\n      <td>1445</td>\n      <td>1445</td>\n      <td>15</td>\n      <td>4</td>\n      <td>201412</td>\n      <td>84.0</td>\n    </tr>\n    <tr>\n      <th>253564</th>\n      <td>4</td>\n      <td>1023</td>\n      <td>1022</td>\n      <td>50</td>\n      <td>222</td>\n      <td>202</td>\n      <td>3374</td>\n      <td>50</td>\n      <td>48</td>\n      <td>48</td>\n      <td>3374</td>\n      <td>10</td>\n      <td>1</td>\n      <td>201411</td>\n      <td>4.0</td>\n    </tr>\n  </tbody>\n</table>\n</div>"
          },
          "metadata": {}
        }
      ]
    },
    {
      "cell_type": "code",
      "source": "# Выгрузим данные\nimport scipy.sparse",
      "metadata": {
        "trusted": true
      },
      "execution_count": 106,
      "outputs": []
    },
    {
      "cell_type": "code",
      "source": "train.to_csv(\"train.csv\")\ntest.to_csv(\"test.csv\")\nscipy.sparse.save_npz('new_features_test.npz', new_features_test)\nscipy.sparse.save_npz('new_features_train.npz', new_features_train)",
      "metadata": {
        "trusted": true
      },
      "execution_count": 107,
      "outputs": []
    }
  ]
}